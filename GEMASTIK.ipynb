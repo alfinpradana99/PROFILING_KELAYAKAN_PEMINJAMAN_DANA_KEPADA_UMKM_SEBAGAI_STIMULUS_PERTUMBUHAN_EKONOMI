{
 "cells": [
  {
   "cell_type": "code",
   "execution_count": null,
   "metadata": {},
   "outputs": [],
   "source": [
    "import pandas as pd\n",
    "import numpy as np\n",
    "import re\n",
    "import warnings\n",
    "import matplotlib.pyplot as plt\n",
    "import matplotlib.cm as cm\n",
    "import seaborn as sns\n",
    "from sklearn.preprocessing import MinMaxScaler\n",
    "warnings.filterwarnings(\"ignore\")\n",
    "\n",
    "from sklearn.cluster import KMeans\n",
    "from sklearn.cluster import AgglomerativeClustering\n",
    "from sklearn.metrics import silhouette_samples, silhouette_score\n",
    "import scipy.cluster.hierarchy as shc\n",
    "from sklearn import preprocessing\n",
    "import datetime\n",
    "\n",
    "%time"
   ]
  },
  {
   "cell_type": "markdown",
   "metadata": {},
   "source": [
    "# Informasi Dasar yang ingin diambil"
   ]
  },
  {
   "cell_type": "code",
   "execution_count": null,
   "metadata": {},
   "outputs": [],
   "source": [
    "df=pd.read_csv('umkm_data.csv')"
   ]
  },
  {
   "cell_type": "code",
   "execution_count": null,
   "metadata": {},
   "outputs": [],
   "source": [
    "KOLOM=['provinsi','tahun_survey','nama_badan_hukum','jumlah_tenaga_kerja','sistem_penjualan',\n",
    "       'target_pasar_produk_massal','target_pasar_produk_spesifik','tingkat_pesaing_usaha',\n",
    "       'total_aset','penjualan_rata-rata_tahunan','kebutuhan_pembiayaan_kredit','nilai_asset_jaminanan',\n",
    "       'Sektor_Industri','Kategori_jumlah_pinjaman','proyeksi_pertumbuhan_penjualan']"
   ]
  },
  {
   "cell_type": "code",
   "execution_count": null,
   "metadata": {},
   "outputs": [],
   "source": [
    "DATA=df[KOLOM].copy()"
   ]
  },
  {
   "cell_type": "markdown",
   "metadata": {},
   "source": [
    "# String to numeric"
   ]
  },
  {
   "cell_type": "markdown",
   "metadata": {},
   "source": [
    "### Kolom rupiah"
   ]
  },
  {
   "cell_type": "code",
   "execution_count": null,
   "metadata": {},
   "outputs": [],
   "source": [
    "kolom_rup=['total_aset','penjualan_rata-rata_tahunan','kebutuhan_pembiayaan_kredit','nilai_asset_jaminanan']"
   ]
  },
  {
   "cell_type": "code",
   "execution_count": null,
   "metadata": {},
   "outputs": [],
   "source": [
    "for kolom in kolom_rup:\n",
    "    DATA[kolom] = DATA[kolom].str.replace('Rp. ', '').str.replace(' ', '').str.replace('Juta', '')\n",
    "    DATA[kolom] = DATA[kolom].str.replace(',', '').str.replace('.','')\n",
    "    DATA[kolom] = DATA[kolom].astype('int64')\n",
    "    DATA.loc[DATA[kolom]>10**8, kolom] = DATA[DATA[kolom]>10**8][kolom]/10**6\n",
    "    DATA[kolom]=DATA[kolom] * 10**4"
   ]
  },
  {
   "cell_type": "markdown",
   "metadata": {},
   "source": [
    "#  penanganan atribut serupa"
   ]
  },
  {
   "cell_type": "code",
   "execution_count": null,
   "metadata": {},
   "outputs": [],
   "source": [
    "def separator(x):\n",
    "    if 'gol bawah' in x.lower():\n",
    "        return 'golongan bawah'\n",
    "    elif 'golongan atas' in x.lower():\n",
    "        return 'golongan atas'\n",
    "    elif 'golongan menengah' in x.lower():\n",
    "        return 'golongan menengah'\n",
    "    elif 'memenuhi order' in x.lower():\n",
    "        return 'memenuhi order distributor/exportir/trader'\n",
    "    elif 'tidak ada'in x.lower():\n",
    "        return 'tidak ada'\n",
    "    else:\n",
    "        return np.NaN"
   ]
  },
  {
   "cell_type": "code",
   "execution_count": null,
   "metadata": {},
   "outputs": [],
   "source": [
    "DATA['sasaran_produk_massal'] = DATA['target_pasar_produk_massal'].apply(separator)\n",
    "DATA['persentase_massal'] = DATA['target_pasar_produk_massal'].apply(lambda x: str(x.split('\\xa0')[-2])[:-3])\n",
    "DATA['sasaran_produk_spesifik'] = DATA['target_pasar_produk_spesifik'].apply(separator)\n",
    "DATA['persentase_spesifik'] = DATA['target_pasar_produk_spesifik'].apply(lambda x: str(x.split('\\xa0')[-2])[:-3])\n",
    "\n",
    "DATA.drop('target_pasar_produk_massal', axis=1, inplace=True)\n",
    "DATA.drop('target_pasar_produk_spesifik', axis=1, inplace=True)"
   ]
  },
  {
   "cell_type": "code",
   "execution_count": null,
   "metadata": {},
   "outputs": [],
   "source": [
    "def sasaran_produk(row):\n",
    "    if(float(row['persentase_massal'])>=50):\n",
    "        val=row['sasaran_produk_massal']\n",
    "    else:\n",
    "        val=row['sasaran_produk_spesifik']\n",
    "    return val"
   ]
  },
  {
   "cell_type": "code",
   "execution_count": null,
   "metadata": {},
   "outputs": [],
   "source": [
    "DATA['sasaran_produk']=DATA.apply(sasaran_produk,axis=1)"
   ]
  },
  {
   "cell_type": "code",
   "execution_count": null,
   "metadata": {},
   "outputs": [],
   "source": [
    "DATA.drop('sasaran_produk_massal', axis=1, inplace=True)\n",
    "DATA.drop('persentase_massal', axis=1, inplace=True)\n",
    "DATA.drop('sasaran_produk_spesifik', axis=1, inplace=True)\n",
    "DATA.drop('persentase_spesifik', axis=1, inplace=True)"
   ]
  },
  {
   "cell_type": "markdown",
   "metadata": {},
   "source": [
    "# Inkonsistensi Data"
   ]
  },
  {
   "cell_type": "code",
   "execution_count": null,
   "metadata": {},
   "outputs": [],
   "source": [
    "DATA['proyeksi_pertumbuhan_penjualan']=DATA.proyeksi_pertumbuhan_penjualan.apply(lambda x:x.split(' %')[0].split('.')[0])\n",
    "DATA['proyeksi_pertumbuhan_penjualan']=DATA.proyeksi_pertumbuhan_penjualan.replace('-',np.NaN)\n",
    "DATA['proyeksi_pertumbuhan_penjualan']=DATA.proyeksi_pertumbuhan_penjualan.replace('',np.NaN)\n",
    "DATA['proyeksi_pertumbuhan_penjualan'] = DATA['proyeksi_pertumbuhan_penjualan'].astype(float)"
   ]
  },
  {
   "cell_type": "code",
   "execution_count": null,
   "metadata": {},
   "outputs": [],
   "source": [
    "#delete tipo\n",
    "DATA['tahun_survey']=DATA['tahun_survey'].replace(3012,2012)\n",
    "DATA['tahun_survey']=DATA['tahun_survey'].replace(2913,2013)\n",
    "\n",
    "#ganti - jadi null\n",
    "DATA['nama_badan_hukum']=DATA['nama_badan_hukum'].replace('-',np.NaN)\n",
    "\n",
    "DATA['sistem_penjualan']=DATA['sistem_penjualan'].replace('-',np.NaN)\n",
    "\n",
    "DATA['tingkat_pesaing_usaha']=DATA['tingkat_pesaing_usaha'].replace('-',np.NaN)"
   ]
  },
  {
   "cell_type": "code",
   "execution_count": null,
   "metadata": {
    "scrolled": true
   },
   "outputs": [],
   "source": [
    "#ubah tipe data\n",
    "DATA = DATA.astype({'total_aset':'int64','penjualan_rata-rata_tahunan':'int64',\n",
    "                    \"kebutuhan_pembiayaan_kredit\":'int64','nilai_asset_jaminanan':'int64'})"
   ]
  },
  {
   "cell_type": "markdown",
   "metadata": {},
   "source": [
    "## DATA IMBALANCE"
   ]
  },
  {
   "cell_type": "markdown",
   "metadata": {},
   "source": [
    "### Badan Hukum"
   ]
  },
  {
   "cell_type": "code",
   "execution_count": null,
   "metadata": {},
   "outputs": [],
   "source": [
    "DATA = DATA[DATA['nama_badan_hukum'].isin(['Perorangan', 'Usaha Dagang (UD)', np.NaN])]"
   ]
  },
  {
   "cell_type": "code",
   "execution_count": null,
   "metadata": {},
   "outputs": [],
   "source": [
    "DATA.drop('nama_badan_hukum', axis=1, inplace=True)"
   ]
  },
  {
   "cell_type": "markdown",
   "metadata": {},
   "source": [
    "### Sektor industri"
   ]
  },
  {
   "cell_type": "code",
   "execution_count": null,
   "metadata": {},
   "outputs": [],
   "source": [
    "sektor = pd.DataFrame(DATA['Sektor_Industri'].value_counts()>100).reset_index()\n",
    "sektorbesar = sektor[sektor['Sektor_Industri'] == True]['index'].tolist()\n",
    "DATA = DATA[DATA['Sektor_Industri'].isin(sektorbesar)]"
   ]
  },
  {
   "cell_type": "code",
   "execution_count": null,
   "metadata": {},
   "outputs": [],
   "source": [
    "def sektor_industri(row):\n",
    "    if row['Sektor_Industri']=='Perdagangan Besar dan Eceran Reparasi dan Perawatan Mobil dan Sepeda Motor':\n",
    "        val='Perdagangan dan Perawatan Kendaraan'\n",
    "    elif row['Sektor_Industri']=='Industri Pengolahan':\n",
    "        val='Industri Pengolahan'\n",
    "    elif row['Sektor_Industri']==np.NaN:\n",
    "        val=np.NaN\n",
    "    else:\n",
    "        val='Lain-lain'\n",
    "    return val"
   ]
  },
  {
   "cell_type": "code",
   "execution_count": null,
   "metadata": {},
   "outputs": [],
   "source": [
    "DATA['Sektor_Industri']=DATA.apply(sektor_industri,axis=1)"
   ]
  },
  {
   "cell_type": "markdown",
   "metadata": {},
   "source": [
    "# CAT -> angka"
   ]
  },
  {
   "cell_type": "code",
   "execution_count": null,
   "metadata": {},
   "outputs": [],
   "source": [
    "# ordinal\n",
    "# tingkat_pesaing_usaha, Kategori_jumlah_pinjaman, sasaran_produk\n",
    "\n",
    "# nominal\n",
    "# nama_badan_hukum, sektor_industri, sistem_penjualan"
   ]
  },
  {
   "cell_type": "markdown",
   "metadata": {},
   "source": [
    "## ordinal"
   ]
  },
  {
   "cell_type": "code",
   "execution_count": null,
   "metadata": {},
   "outputs": [],
   "source": [
    "DATA = DATA.replace({\n",
    "    'tingkat_pesaing_usaha' : { 'Rendah' : 2, 'Sedang' : 1, 'Tinggi' : 0},\n",
    "    'sasaran_produk' : { 'tidak ada' : 0, 'golongan bawah' : 1, 'golongan menengah' : 2, 'golongan atas' : 3,\n",
    "                        'memenuhi order distributor/exportir/trader' : 4},\n",
    "    'Kategori_jumlah_pinjaman' : {'s.d Rp 10 JUTA': 0, 'Rp 10 JUTA s.d Rp 50 JUTA':1,\n",
    "                                  'Rp 50 JUTA s.d Rp 100 JUTA':2, '> Rp 100 JUTA':3}\n",
    "})"
   ]
  },
  {
   "cell_type": "markdown",
   "metadata": {},
   "source": [
    "## Nominal"
   ]
  },
  {
   "cell_type": "markdown",
   "metadata": {},
   "source": [
    "### Sistem Penjualan"
   ]
  },
  {
   "cell_type": "code",
   "execution_count": null,
   "metadata": {},
   "outputs": [],
   "source": [
    "# membuat hanya 2 sistem penjualan, menjual kepada retail atau tidak. jika ya = 1, tidak = 0."
   ]
  },
  {
   "cell_type": "code",
   "execution_count": null,
   "metadata": {},
   "outputs": [],
   "source": [
    "DATA = DATA.replace({'sistem_penjualan' : { 'Retail' : 1, 'Retail dan Distributor' : 1, 'Distributor' : 0}})"
   ]
  },
  {
   "cell_type": "markdown",
   "metadata": {},
   "source": [
    "# Missing Value"
   ]
  },
  {
   "cell_type": "markdown",
   "metadata": {},
   "source": [
    "### berdasarkan provinsi + tahun"
   ]
  },
  {
   "cell_type": "code",
   "execution_count": null,
   "metadata": {},
   "outputs": [],
   "source": [
    "DATA.dropna(subset=['provinsi'],axis=0,inplace=True)\n",
    "DATA.drop(['provinsi','tahun_survey'],axis=1,inplace=True)"
   ]
  },
  {
   "cell_type": "code",
   "execution_count": null,
   "metadata": {},
   "outputs": [],
   "source": [
    "DATA.dropna(subset=['sistem_penjualan', 'tingkat_pesaing_usaha'],axis=0,inplace=True)"
   ]
  },
  {
   "cell_type": "code",
   "execution_count": null,
   "metadata": {},
   "outputs": [],
   "source": [
    "DATA.dropna(subset=['proyeksi_pertumbuhan_penjualan'],axis=0,inplace=True)"
   ]
  },
  {
   "cell_type": "markdown",
   "metadata": {},
   "source": [
    "## DATA extreme"
   ]
  },
  {
   "cell_type": "code",
   "execution_count": null,
   "metadata": {},
   "outputs": [],
   "source": [
    "DATA=DATA[DATA['total_aset']!=0]\n",
    "DATA=DATA[DATA['penjualan_rata-rata_tahunan']!=0]\n",
    "DATA=DATA[DATA['kebutuhan_pembiayaan_kredit']!=0]"
   ]
  },
  {
   "cell_type": "code",
   "execution_count": null,
   "metadata": {},
   "outputs": [],
   "source": [
    "DATA.to_csv('handling.csv', index=False)"
   ]
  },
  {
   "cell_type": "markdown",
   "metadata": {},
   "source": [
    "# KELAR DATA HANDLING"
   ]
  },
  {
   "cell_type": "code",
   "execution_count": null,
   "metadata": {},
   "outputs": [],
   "source": [
    "DATA = pd.read_csv('handling.csv')"
   ]
  },
  {
   "cell_type": "code",
   "execution_count": null,
   "metadata": {},
   "outputs": [],
   "source": []
  },
  {
   "cell_type": "markdown",
   "metadata": {},
   "source": [
    "<!-- ## boxplot outlier -->"
   ]
  },
  {
   "cell_type": "code",
   "execution_count": null,
   "metadata": {},
   "outputs": [],
   "source": [
    "# DATA = DATA.reset_index(drop=True)\n",
    "# DATA['log_total_aset'] = np.log10(DATA['total_aset'])\n",
    "# DATA['log_penjualan_rata-rata_tahunan'] = np.log10(DATA['penjualan_rata-rata_tahunan'])\n",
    "# DATA['log_kebutuhan_pembiayaan_kredit'] = np.log10(DATA['kebutuhan_pembiayaan_kredit'])\n",
    "# DATA['log_nilai_asset_jaminanan'] = np.log10(DATA['nilai_asset_jaminanan'])"
   ]
  },
  {
   "cell_type": "code",
   "execution_count": null,
   "metadata": {},
   "outputs": [],
   "source": [
    "# DATA['log_total_aset']=DATA['log_total_aset'].replace(float('-inf'),0)\n",
    "# DATA['log_penjualan_rata-rata_tahunan']=DATA['log_penjualan_rata-rata_tahunan'].replace(float('-inf'),0)\n",
    "# DATA['log_kebutuhan_pembiayaan_kredit']=DATA['log_kebutuhan_pembiayaan_kredit'].replace(float('-inf'),0)\n",
    "# DATA['log_nilai_asset_jaminanan']=DATA['log_nilai_asset_jaminanan'].replace(float('-inf'),0)"
   ]
  },
  {
   "cell_type": "code",
   "execution_count": null,
   "metadata": {},
   "outputs": [],
   "source": [
    "# sns.boxplot(DATA['log_kebutuhan_pembiayaan_kredit'])"
   ]
  },
  {
   "cell_type": "code",
   "execution_count": null,
   "metadata": {},
   "outputs": [],
   "source": [
    "# DATA.boxplot(column=['log_total_aset', 'log_penjualan_rata-rata_tahunan', 'log_kebutuhan_pembiayaan_kredit'])"
   ]
  },
  {
   "cell_type": "code",
   "execution_count": null,
   "metadata": {},
   "outputs": [],
   "source": []
  },
  {
   "cell_type": "code",
   "execution_count": null,
   "metadata": {},
   "outputs": [],
   "source": []
  },
  {
   "cell_type": "markdown",
   "metadata": {},
   "source": [
    "# ANALISA"
   ]
  },
  {
   "cell_type": "markdown",
   "metadata": {},
   "source": [
    "## jadiin log"
   ]
  },
  {
   "cell_type": "code",
   "execution_count": null,
   "metadata": {},
   "outputs": [],
   "source": [
    "DATA = DATA.reset_index(drop=True)\n",
    "DATA['log_total_aset'] = np.log10(DATA['total_aset'])\n",
    "DATA['log_penjualan_rata-rata_tahunan'] = np.log10(DATA['penjualan_rata-rata_tahunan'])\n",
    "DATA['log_kebutuhan_pembiayaan_kredit'] = np.log10(DATA['kebutuhan_pembiayaan_kredit'])\n",
    "DATA['log_nilai_asset_jaminanan'] = np.log10(DATA['nilai_asset_jaminanan'])"
   ]
  },
  {
   "cell_type": "code",
   "execution_count": null,
   "metadata": {},
   "outputs": [],
   "source": [
    "DATA['log_nilai_asset_jaminanan']=DATA['log_nilai_asset_jaminanan'].replace(float('-inf'),0)"
   ]
  },
  {
   "cell_type": "markdown",
   "metadata": {},
   "source": [
    "# REKAYASA FITUR"
   ]
  },
  {
   "cell_type": "markdown",
   "metadata": {},
   "source": [
    "## rasio efisiensi + jaminan"
   ]
  },
  {
   "cell_type": "code",
   "execution_count": null,
   "metadata": {},
   "outputs": [],
   "source": [
    "DATA['rasio_efisiensi'] = DATA['log_penjualan_rata-rata_tahunan']/DATA['log_total_aset']\n",
    "DATA['rasio_jaminan'] = DATA['log_nilai_asset_jaminanan']/DATA['log_kebutuhan_pembiayaan_kredit']"
   ]
  },
  {
   "cell_type": "code",
   "execution_count": null,
   "metadata": {},
   "outputs": [],
   "source": [
    "# DATA['rasio_efisiensi'] = DATA['penjualan_rata-rata_tahunan']/DATA['total_aset']\n",
    "# DATA['rasio_jaminan'] = DATA['nilai_asset_jaminanan']/DATA['kebutuhan_pembiayaan_kredit']"
   ]
  },
  {
   "cell_type": "markdown",
   "metadata": {},
   "source": [
    "## jenis umkm "
   ]
  },
  {
   "cell_type": "code",
   "execution_count": null,
   "metadata": {},
   "outputs": [],
   "source": [
    "def jenis_umkm(row):\n",
    "    if(row['total_aset']<=50*10**6):\n",
    "        val='Mikro'\n",
    "    elif((row['total_aset']>50*10**6) & (row['total_aset']<=500*10**6)):\n",
    "        val='Kecil'\n",
    "    elif((row['total_aset']>500*10**6) & (row['total_aset']<=10*10**9)):\n",
    "        val='Menengah'\n",
    "    else:\n",
    "        val= np.NaN\n",
    "    return val"
   ]
  },
  {
   "cell_type": "code",
   "execution_count": null,
   "metadata": {},
   "outputs": [],
   "source": [
    "DATA['jenis_umkm']=DATA.apply(jenis_umkm,axis=1)"
   ]
  },
  {
   "cell_type": "code",
   "execution_count": null,
   "metadata": {},
   "outputs": [],
   "source": [
    "DATA.dropna(inplace=True)"
   ]
  },
  {
   "cell_type": "code",
   "execution_count": null,
   "metadata": {},
   "outputs": [],
   "source": [
    "DATA.to_csv('data_logbenergan.csv',index=False)"
   ]
  },
  {
   "cell_type": "markdown",
   "metadata": {},
   "source": [
    "# SELEKSI FITUR"
   ]
  },
  {
   "cell_type": "code",
   "execution_count": null,
   "metadata": {},
   "outputs": [],
   "source": [
    "DATA.columns"
   ]
  },
  {
   "cell_type": "code",
   "execution_count": null,
   "metadata": {},
   "outputs": [],
   "source": [
    "seleksi = DATA[['jumlah_tenaga_kerja', 'sistem_penjualan', 'tingkat_pesaing_usaha','Sektor_Industri',\n",
    "            'Kategori_jumlah_pinjaman','proyeksi_pertumbuhan_penjualan', 'sasaran_produk',\n",
    "            'log_total_aset','log_penjualan_rata-rata_tahunan','log_kebutuhan_pembiayaan_kredit',\n",
    "            'log_nilai_asset_jaminanan', 'rasio_efisiensi', 'rasio_jaminan', 'jenis_umkm']]"
   ]
  },
  {
   "cell_type": "code",
   "execution_count": null,
   "metadata": {},
   "outputs": [],
   "source": [
    "seleksi.drop('jenis_umkm', axis=1,inplace=True)"
   ]
  },
  {
   "cell_type": "code",
   "execution_count": null,
   "metadata": {},
   "outputs": [],
   "source": [
    "skenario1 = pd.get_dummies(seleksi, columns=['Sektor_Industri'], drop_first=True)"
   ]
  },
  {
   "cell_type": "code",
   "execution_count": null,
   "metadata": {
    "scrolled": false
   },
   "outputs": [],
   "source": [
    "plt.figure(figsize=(10,5))\n",
    "ax = sns.heatmap(skenario1.corr(),annot=True)\n",
    "ax.set_xticklabels(\n",
    "    ax.get_xticklabels(),\n",
    "    rotation=30,\n",
    "    horizontalalignment='right'\n",
    ")"
   ]
  },
  {
   "cell_type": "markdown",
   "metadata": {},
   "source": [
    "## ----------------------------------------------------------------------------------------------------------------------------"
   ]
  },
  {
   "cell_type": "code",
   "execution_count": null,
   "metadata": {},
   "outputs": [],
   "source": [
    "skenario2 = seleksi[['jumlah_tenaga_kerja', 'log_total_aset','log_penjualan_rata-rata_tahunan',\n",
    "                     'log_kebutuhan_pembiayaan_kredit', 'log_nilai_asset_jaminanan', 'rasio_efisiensi',\n",
    "                     'rasio_jaminan', 'proyeksi_pertumbuhan_penjualan']]"
   ]
  },
  {
   "cell_type": "code",
   "execution_count": null,
   "metadata": {},
   "outputs": [],
   "source": [
    "korelasi = skenario2.corr()"
   ]
  },
  {
   "cell_type": "code",
   "execution_count": null,
   "metadata": {},
   "outputs": [],
   "source": [
    "for i in korelasi.columns:\n",
    "    temp=abs(korelasi[i])\n",
    "    col=temp[(temp>0.45) & (temp!=1)].index\n",
    "    if col.empty:\n",
    "        a=0\n",
    "    else:\n",
    "        print(i,col)"
   ]
  },
  {
   "cell_type": "markdown",
   "metadata": {},
   "source": [
    "## ----------------------------------------------------------------------------------------------------------------------------"
   ]
  },
  {
   "cell_type": "code",
   "execution_count": null,
   "metadata": {},
   "outputs": [],
   "source": [
    "skenario3 = seleksi[['log_kebutuhan_pembiayaan_kredit', 'proyeksi_pertumbuhan_penjualan',\n",
    "                     'rasio_jaminan', 'rasio_efisiensi']]"
   ]
  },
  {
   "cell_type": "code",
   "execution_count": null,
   "metadata": {},
   "outputs": [],
   "source": [
    "korelasi = skenario3.corr()"
   ]
  },
  {
   "cell_type": "code",
   "execution_count": null,
   "metadata": {},
   "outputs": [],
   "source": [
    "for i in korelasi.columns:\n",
    "    temp=abs(korelasi[i])\n",
    "    col=temp[(temp>0.47) & (temp!=1)].index\n",
    "    if col.empty:\n",
    "        a=0\n",
    "    else:\n",
    "        print(i,col)"
   ]
  },
  {
   "cell_type": "code",
   "execution_count": null,
   "metadata": {},
   "outputs": [],
   "source": [
    "plt.figure(figsize=(10,5))\n",
    "ax = sns.heatmap(skenario3.corr(),annot=True)\n",
    "ax.set_xticklabels(\n",
    "    ax.get_xticklabels(),\n",
    "    rotation=30,\n",
    "    horizontalalignment='right'\n",
    ")\n",
    "ax.set_title('Non-Collinearity Attributes ', fontsize=16)"
   ]
  },
  {
   "cell_type": "code",
   "execution_count": null,
   "metadata": {},
   "outputs": [],
   "source": [
    "data = skenario3"
   ]
  },
  {
   "cell_type": "code",
   "execution_count": null,
   "metadata": {},
   "outputs": [],
   "source": [
    "data.log_kebutuhan_pembiayaan_kredit"
   ]
  },
  {
   "cell_type": "markdown",
   "metadata": {},
   "source": [
    "# Data Scaling"
   ]
  },
  {
   "cell_type": "code",
   "execution_count": null,
   "metadata": {},
   "outputs": [],
   "source": [
    "x_array = np.array(data)\n",
    "scaler = MinMaxScaler()\n",
    "data_scaled = scaler.fit_transform(x_array)"
   ]
  },
  {
   "cell_type": "markdown",
   "metadata": {},
   "source": [
    "# Clustering Model"
   ]
  },
  {
   "cell_type": "markdown",
   "metadata": {},
   "source": [
    "## hyperparameter tuning"
   ]
  },
  {
   "cell_type": "code",
   "execution_count": null,
   "metadata": {},
   "outputs": [],
   "source": [
    "def tuningKmeans(data,maxn,inits):\n",
    "    best_score=-9999999\n",
    "    waktu=datetime.datetime.now()\n",
    "    namafile=str(waktu.strftime(\"%Y%m%d-%H%M%S\"))+'_log_'+str(maxn)+str(inits)+'kmeans.txt'\n",
    "    f = open(namafile,'w',encoding=\"utf-8\")\n",
    "    for init in inits:\n",
    "        for i in range(2,maxn+1):\n",
    "#             print(i,init)\n",
    "            km = KMeans(n_clusters=i, random_state=100,init=init)\n",
    "            pred = km.fit_predict(data)\n",
    "            silhouette_avg = silhouette_score(data, pred)\n",
    "            out='Silhouette score :'+str(silhouette_avg)+' dengan n='+str(i)+' tipe init= '+str(init)+'\\n'\n",
    "            print(out)\n",
    "            f.write(out)\n",
    "            if(silhouette_avg>best_score):\n",
    "                best_score=silhouette_avg\n",
    "                best_model=km\n",
    "                best_pred=pred\n",
    "                best_n=i\n",
    "                best_init=init\n",
    "    out='Best Model didapatkan dari n='+str(best_n)+', dengan init='+str(best_init)+', dengan score='+str(best_score)+'\\n'\n",
    "    print(out)\n",
    "    f.write(out)\n",
    "    f.close()\n",
    "    return(best_model,best_pred)"
   ]
  },
  {
   "cell_type": "code",
   "execution_count": null,
   "metadata": {},
   "outputs": [],
   "source": [
    "maxn=5\n",
    "inits=['k-means++','random']\n",
    "model,pred=tuningKmeans(data_scaled,maxn,inits)"
   ]
  },
  {
   "cell_type": "code",
   "execution_count": null,
   "metadata": {},
   "outputs": [],
   "source": [
    "def tuningHierar(data,maxn,linkages):\n",
    "    best_score=-9999999\n",
    "    waktu=datetime.datetime.now()\n",
    "    namafile=str(waktu.strftime(\"%Y%m%d-%H%M%S\"))+'_log_'+str(maxn)+str(linkages)+'AggloClust.txt'\n",
    "    f = open(namafile,'w',encoding=\"utf-8\")\n",
    "    for linkage in linkages:\n",
    "        for i in range(2,maxn+1):\n",
    "    #             print(i,init)\n",
    "            hie=AgglomerativeClustering(n_clusters=i,linkage=linkage)\n",
    "            pred = hie.fit_predict(data)\n",
    "            silhouette_avg = silhouette_score(data, pred)\n",
    "            out='Silhouette score :'+str(silhouette_avg)+' dengan n='+str(i)+' tipe linkage= '+str(linkage)+'\\n'\n",
    "            print(out)\n",
    "            f.write(out)\n",
    "            if(silhouette_avg>best_score):\n",
    "                best_score=silhouette_avg\n",
    "                best_model=hie\n",
    "                best_pred=pred\n",
    "                best_n=i\n",
    "                best_linkage=linkage\n",
    "    out='Best Model didapatkan dari n='+str(best_n)+', dengan score='+str(best_score)+' tipe linkage= '+str(best_linkage)+'\\n'\n",
    "    print(out)\n",
    "    f.write(out)\n",
    "    f.close()\n",
    "    return(best_model,best_pred)"
   ]
  },
  {
   "cell_type": "code",
   "execution_count": null,
   "metadata": {},
   "outputs": [],
   "source": [
    "maxn=5\n",
    "linkages=['ward','complete']\n",
    "model,pred=tuningHierar(data_scaled,maxn,linkages)"
   ]
  },
  {
   "cell_type": "markdown",
   "metadata": {},
   "source": [
    "## evaluasi model"
   ]
  },
  {
   "cell_type": "code",
   "execution_count": null,
   "metadata": {},
   "outputs": [],
   "source": [
    "n=3"
   ]
  },
  {
   "cell_type": "code",
   "execution_count": null,
   "metadata": {},
   "outputs": [],
   "source": [
    "%%time\n",
    "hie = AgglomerativeClustering(n_clusters=2,linkage='complete')\n",
    "pred_h = hie.fit_predict(data_scaled)\n",
    "silhouette_avg = silhouette_score(data_scaled, pred_h)\n",
    "print(silhouette_avg)"
   ]
  },
  {
   "cell_type": "code",
   "execution_count": null,
   "metadata": {},
   "outputs": [],
   "source": [
    "%%time\n",
    "km = KMeans(n_clusters=n, random_state=0,init='k-means++')\n",
    "pred_p = km.fit_predict(data_scaled)\n",
    "silhouette_avg = silhouette_score(data_scaled, pred_p)\n",
    "print(silhouette_avg)"
   ]
  },
  {
   "cell_type": "code",
   "execution_count": null,
   "metadata": {},
   "outputs": [],
   "source": [
    "%%time\n",
    "km = KMeans(n_clusters=n, random_state=0,init='random')\n",
    "pred_r = km.fit_predict(data_scaled)\n",
    "silhouette_avg = silhouette_score(data_scaled, pred_r)\n",
    "print(silhouette_avg)"
   ]
  },
  {
   "cell_type": "markdown",
   "metadata": {},
   "source": [
    "### perbandingan korelasi"
   ]
  },
  {
   "cell_type": "code",
   "execution_count": null,
   "metadata": {},
   "outputs": [],
   "source": [
    "korr = data.copy()"
   ]
  },
  {
   "cell_type": "code",
   "execution_count": null,
   "metadata": {},
   "outputs": [],
   "source": [
    "korr['Class_p']= pred_p\n",
    "korr['Class_r']= pred_r\n",
    "korr['Class_h']= pred_h"
   ]
  },
  {
   "cell_type": "code",
   "execution_count": null,
   "metadata": {},
   "outputs": [],
   "source": [
    "korelasi = korr.corr(method='spearman')"
   ]
  },
  {
   "cell_type": "code",
   "execution_count": null,
   "metadata": {},
   "outputs": [],
   "source": [
    "corr_p=abs(korelasi['Class_p'])"
   ]
  },
  {
   "cell_type": "code",
   "execution_count": null,
   "metadata": {},
   "outputs": [],
   "source": [
    "corr_p"
   ]
  },
  {
   "cell_type": "code",
   "execution_count": null,
   "metadata": {},
   "outputs": [],
   "source": [
    "corr_h=abs(korelasi['Class_h'])"
   ]
  },
  {
   "cell_type": "code",
   "execution_count": null,
   "metadata": {},
   "outputs": [],
   "source": [
    "corr_h"
   ]
  },
  {
   "cell_type": "code",
   "execution_count": null,
   "metadata": {},
   "outputs": [],
   "source": [
    "corr_r=abs(korelasi['Class_r'])"
   ]
  },
  {
   "cell_type": "code",
   "execution_count": null,
   "metadata": {},
   "outputs": [],
   "source": [
    "corr_r"
   ]
  },
  {
   "cell_type": "markdown",
   "metadata": {},
   "source": [
    "## Multi class Clustering"
   ]
  },
  {
   "cell_type": "markdown",
   "metadata": {},
   "source": [
    "Mikro"
   ]
  },
  {
   "cell_type": "code",
   "execution_count": null,
   "metadata": {},
   "outputs": [],
   "source": [
    "dfmikro = data[data['jenis_umkm'] == 'Mikro'].drop('jenis_umkm', axis=1)\n",
    "# dfkecil = data[data['jenis_umkm'] == 'Kecil'].drop('jenis_umkm', axis=1)\n",
    "# dfmenengah = data[data['jenis_umkm'] == 'Menengah'].drop('jenis_umkm', axis=1)"
   ]
  },
  {
   "cell_type": "code",
   "execution_count": null,
   "metadata": {},
   "outputs": [],
   "source": [
    "x_array = np.array(dfmikro)\n",
    "# x_array = np.array(dfkecil)\n",
    "# x_array = np.array(dfmenengah)\n",
    "scaler = MinMaxScaler()\n",
    "data_scaled = scaler.fit_transform(x_array)"
   ]
  },
  {
   "cell_type": "code",
   "execution_count": null,
   "metadata": {},
   "outputs": [],
   "source": []
  },
  {
   "cell_type": "code",
   "execution_count": null,
   "metadata": {},
   "outputs": [],
   "source": []
  }
 ],
 "metadata": {
  "kernelspec": {
   "display_name": "Python 3",
   "language": "python",
   "name": "python3"
  },
  "language_info": {
   "codemirror_mode": {
    "name": "ipython",
    "version": 3
   },
   "file_extension": ".py",
   "mimetype": "text/x-python",
   "name": "python",
   "nbconvert_exporter": "python",
   "pygments_lexer": "ipython3",
   "version": "3.7.7"
  }
 },
 "nbformat": 4,
 "nbformat_minor": 4
}
